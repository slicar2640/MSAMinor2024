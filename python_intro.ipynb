{
 "cells": [
  {
   "cell_type": "code",
   "execution_count": 13,
   "metadata": {},
   "outputs": [
    {
     "name": "stdout",
     "output_type": "stream",
     "text": [
      "Carter Slinker\n"
     ]
    }
   ],
   "source": [
    "#print my name\n",
    "print(\"Carter Slinker\")"
   ]
  },
  {
   "cell_type": "code",
   "execution_count": 14,
   "metadata": {},
   "outputs": [
    {
     "name": "stdout",
     "output_type": "stream",
     "text": [
      "24\n",
      "35\n"
     ]
    }
   ],
   "source": [
    "number_1 = 24\n",
    "number_2 = 35\n",
    "print(number_1)\n",
    "print(number_2)"
   ]
  },
  {
   "cell_type": "code",
   "execution_count": 19,
   "metadata": {},
   "outputs": [
    {
     "name": "stdout",
     "output_type": "stream",
     "text": [
      "24 * 35 = 840\n"
     ]
    }
   ],
   "source": [
    "#multiply number 1 and number 2\n",
    "product = number_1 * number_2\n",
    "print(f\"{number_1} * {number_2} = {product}\")"
   ]
  },
  {
   "cell_type": "code",
   "execution_count": 35,
   "metadata": {},
   "outputs": [
    {
     "name": "stdout",
     "output_type": "stream",
     "text": [
      "[124, 77.4, 93, 47]\n",
      "124\n",
      "77.4\n",
      "93\n",
      "47\n",
      "12477.49347\n"
     ]
    }
   ],
   "source": [
    "#create a list of numbers\n",
    "housing_prices = [124, 77.4, 93, 47]\n",
    "\n",
    "print(housing_prices)\n",
    "for price in housing_prices:\n",
    "    print(price)"
   ]
  }
 ],
 "metadata": {
  "kernelspec": {
   "display_name": "Python 3",
   "language": "python",
   "name": "python3"
  },
  "language_info": {
   "codemirror_mode": {
    "name": "ipython",
    "version": 3
   },
   "file_extension": ".py",
   "mimetype": "text/x-python",
   "name": "python",
   "nbconvert_exporter": "python",
   "pygments_lexer": "ipython3",
   "version": "3.10.5"
  }
 },
 "nbformat": 4,
 "nbformat_minor": 2
}
